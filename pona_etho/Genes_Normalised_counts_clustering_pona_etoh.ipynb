{
 "cells": [
  {
   "cell_type": "code",
   "execution_count": 3,
   "metadata": {},
   "outputs": [],
   "source": [
    "import matplotlib.pyplot as plt\n",
    "import pandas as pd\n",
    "import numpy as np\n",
    "import seaborn as sns"
   ]
  },
  {
   "cell_type": "code",
   "execution_count": 4,
   "metadata": {},
   "outputs": [],
   "source": [
    "def merge_datasets(path_down, path_up, merged_df_path, rows=[]):\n",
    "    down = pd.read_csv(path_down, sep=\"\\t\")\n",
    "    down.columns = rows\n",
    "    up = pd.read_csv(path_up, sep=\"\\t\")\n",
    "    up.columns = rows\n",
    "    new_df = pd.concat([down, up])\n",
    "    new_df.to_csv(merged_df_path, sep=\"\\t\", index=False)\n",
    "    return new_df\n",
    "\n",
    "def prepare_data(file_path):\n",
    "    norm_genes = pd.read_csv(file_path, sep=\"\\t\")\n",
    "    y_labels = norm_genes[\"Genes\"].tolist()\n",
    "    norm_genes = norm_genes.drop(columns=['Genes'])\n",
    "    return norm_genes, y_labels"
   ]
  },
  {
   "cell_type": "code",
   "execution_count": 13,
   "metadata": {
    "scrolled": false
   },
   "outputs": [],
   "source": [
    "# metrics: cityblock, cosine\n",
    "def plot_cluster_genes(dataframe, file_name, fig_title, y_labels):\n",
    "    sns.set(font_scale=2.00)\n",
    "    fig_size = (25,250)\n",
    "    g = sns.clustermap(dataframe,\n",
    "                   row_cluster=True,\n",
    "                   col_cluster=True,\n",
    "                   cmap=\"RdBu_r\",\n",
    "                   xticklabels='auto',\n",
    "                   yticklabels=y_labels,\n",
    "                   figsize=fig_size,\n",
    "                   metric='cosine',\n",
    "                   standard_scale=0\n",
    "                  )\n",
    "    g.fig.suptitle(fig_title)\n",
    "    g.ax_heatmap.set_xlabel(\"Samples\")\n",
    "    g.ax_heatmap.set_ylabel(\"Genes\")\n",
    "\n",
    "    for a in g.ax_col_dendrogram.collections:\n",
    "        a.set_linewidth(3)\n",
    "        #a.set_lineheight(3)\n",
    "\n",
    "    for a in g.ax_row_dendrogram.collections:\n",
    "        a.set_linewidth(3)\n",
    "        \n",
    "    g.savefig('{}.pdf'.format(file_name), dpi=150)\n",
    "    #g.savefig('{}.png'.format(file_name), dpi=150)"
   ]
  },
  {
   "cell_type": "code",
   "execution_count": null,
   "metadata": {
    "scrolled": false
   },
   "outputs": [],
   "source": [
    "# htseq-count on data 343 and data 405 - BB1-PonA-9107\n",
    "# htseq-count on data 343 and data 417 - BB2-PonA-9107\n",
    "# htseq-count on data 343 and data 429 - J-PonA-9107\n",
    "# htseq-count on data 343 and data 411 - BB1-PonA-91418\n",
    "# htseq-count on data 343 and data 423 - BB2-PonA-91418\n",
    "# htseq-count on data 343 and data 435 - J-PonA-91418\n",
    "'''new_df = merged_df_pona = merge_datasets(\"data/cut_downregulated_pona_9107_91418.tabular\", \n",
    "                                \"data/cut_upregulated_pona_9107_91418.tabular\",\n",
    "                                \"data/merged_df_pona_9107_91418.csv\",\n",
    "                               [\"Genes\", \"BB1-PonA-9107\", \"BB2-PonA-9107\", \"J-PonA-9107\", \"BB1-PonA-91418\", \"BB2-PonA-91418\", \"J-PonA-91418\"])\n",
    "path = \"data/merged_df_pona_9107_91418.csv\"\n",
    "normalised_counts_all_genes, y_labels = prepare_data(path)\n",
    "plot_cluster_genes(normalised_counts_all_genes, \"plots/clustered_heatmap_PonA-9107-91418\", 'DE genes', y_labels)'''"
   ]
  },
  {
   "cell_type": "code",
   "execution_count": 46,
   "metadata": {
    "scrolled": false
   },
   "outputs": [],
   "source": [
    "# htseq-count on data 343 and data 408 - BB1-EtoH-91418\n",
    "# htseq-count on data 343 and data 420 - BB2-EtoH-91418\n",
    "# htseq-count on data 343 and data 432 - J-EtoH-91418\n",
    "# htseq-count on data 343 and data 411 - BB1-PonA-91418\n",
    "# htseq-count on data 343 and data 423 - BB2-PonA-91418\n",
    "# htseq-count on data 343 and data 435 - J-PonA-91418\n",
    "new_df = merged_df_pona = merge_datasets(\"data/cut_downregulated_pona_etoh_91418.tabular\", \n",
    "                                \"data/cut_upregulated_pona_etoh_91418.tabular\",\n",
    "                                \"data/merged_df_pona_etoh_91418.csv\",\n",
    "                               [\"Genes\", \"BB1-EtoH-91418\", \"BB2-EtoH-91418\", \"J-EtoH-91418\", \"BB1-PonA-91418\", \"BB2-PonA-91418\", \"J-PonA-91418\"])\n",
    "path = \"data/merged_df_pona_etoh_91418.csv\"\n",
    "normalised_counts_all_genes, y_labels = prepare_data(path)\n",
    "plot_cluster_genes(normalised_counts_all_genes, \"plots/clustered_heatmap_PonA-EtoH-91418\", 'DE genes', y_labels)"
   ]
  },
  {
   "cell_type": "code",
   "execution_count": null,
   "metadata": {},
   "outputs": [],
   "source": []
  },
  {
   "cell_type": "code",
   "execution_count": null,
   "metadata": {},
   "outputs": [],
   "source": []
  },
  {
   "cell_type": "code",
   "execution_count": null,
   "metadata": {},
   "outputs": [],
   "source": []
  }
 ],
 "metadata": {
  "kernelspec": {
   "display_name": "Python 3",
   "language": "python",
   "name": "python3"
  },
  "language_info": {
   "codemirror_mode": {
    "name": "ipython",
    "version": 3
   },
   "file_extension": ".py",
   "mimetype": "text/x-python",
   "name": "python",
   "nbconvert_exporter": "python",
   "pygments_lexer": "ipython3",
   "version": "3.6.13"
  }
 },
 "nbformat": 4,
 "nbformat_minor": 4
}
